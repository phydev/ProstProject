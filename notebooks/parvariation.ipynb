{
 "cells": [
  {
   "cell_type": "code",
   "execution_count": 1,
   "metadata": {},
   "outputs": [],
   "source": [
    "import numpy as np\n",
    "import matplotlib.pyplot as plt\n",
    "from scipy.ndimage import convolve\n",
    "import cv2\n",
    "import pickle"
   ]
  },
  {
   "cell_type": "code",
   "execution_count": 2,
   "metadata": {},
   "outputs": [],
   "source": [
    "def init_tumor2(size, radius):\n",
    "    \"\"\"\n",
    "     initializes the field phi with a circle\n",
    "     :param size: size of matrix\n",
    "     :param radius: tumor initial radius (created in center)\n",
    "     :return param phi: order parameter matrix\n",
    "    \"\"\"\n",
    "    cx,cy = int(size/2),int(size/2)\n",
    "    x, y = np.indices((size, size))\n",
    "    phi = (np.abs(np.hypot(x-cx, y-cy)) < radius).astype(float)\n",
    "    return phi"
   ]
  },
  {
   "cell_type": "code",
   "execution_count": 3,
   "metadata": {},
   "outputs": [],
   "source": [
    "def init_tumor_ellipse(size,a,b,radius):\n",
    "    cx,cy = int(size/2),int(size/2)\n",
    "    x, y = np.indices((size, size))\n",
    "    phi = (np.abs(np.hypot((x-cx)/a, (y-cy)/b)) < radius).astype(float)\n",
    "    return phi"
   ]
  },
  {
   "cell_type": "code",
   "execution_count": 4,
   "metadata": {},
   "outputs": [],
   "source": [
    "def init_s2(size):\n",
    "    s = 2.55 + 0.4 * np.random.rand(size,size)\n",
    "    return s"
   ]
  },
  {
   "cell_type": "code",
   "execution_count": 5,
   "metadata": {},
   "outputs": [],
   "source": [
    "def fintegrate_nophi(phi, sigma, S, dt, h, **kwargs):\n",
    "    \"\"\"\n",
    "      try to go even faster\n",
    "      -> don't create copy here\n",
    "      -> try to reduce multiplications\n",
    "      -> cv2 for convolution?\n",
    "      integrate the order parameter phi and the chemical field sigma one tstep\n",
    "      with 5x5 stencil (five point stencil - https://en.wikipedia.org/wiki/Five-point_stencil)\n",
    "    :param phi: order parameter\n",
    "    :param sigma: nutrient\n",
    "    :param S: source of nutrient\n",
    "    :param tstep: total number of timesteps\n",
    "    :param dt: time increment\n",
    "    :param kwargs: dictionary of parameters lambda, tau, chi, A, epsilon, delta, gamma\n",
    "    :return:\n",
    "    \"\"\"\n",
    "    stencil_5 = (1.0 / (12.0 * h * h)) * np.array(\n",
    "        [[0, 0, -1, 0, 0],\n",
    "         [0, 0, 16, 0, 0],\n",
    "         [-1, 16, -60, 16, -1],\n",
    "         [0, 0, 16, 0, 0],\n",
    "         [0, 0, -1, 0, 0]])\n",
    "\n",
    "    phinew = phi + dt * (kwargs['lambda_'] * cv2.filter2D(phi,-1,stencil_5,borderType=cv2.BORDER_REPLICATE) +\n",
    "                      (64.0/kwargs['tau']) * phi * (1.0 - phi) * (phi - 0.5) +\n",
    "                      kwargs['chi'] * sigma - kwargs['A'] * phi)\n",
    "\n",
    "    sigmanew = sigma + dt * (kwargs['epsilon']*kwargs['lambda_'] * cv2.filter2D(sigma,-1,stencil_5,borderType=cv2.BORDER_REPLICATE) +\n",
    "                              S - kwargs['delta'] * phi - kwargs['gamma'] * sigma)    \n",
    "\n",
    "    return phinew, sigmanew"
   ]
  },
  {
   "cell_type": "code",
   "execution_count": 6,
   "metadata": {},
   "outputs": [],
   "source": [
    "def run_partest(phistart, sigmastart, Sstart, param):\n",
    "    print(\"running parameter test with parameters\", param)\n",
    "    phiold = np.copy(phistart)\n",
    "    sigmaold = np.copy(sigmastart)\n",
    "    S = np.copy(Sstart)\n",
    "    phiarr = np.zeros((param['days'],size,size)) #take care, size not derived from input!\n",
    "    sigmaarr = np.zeros((param['days'],size,size))\n",
    "    \n",
    "    tstep = param['days']/param['dt']\n",
    "    \n",
    "    for iteration in np.arange(tstep):\n",
    "        phinew, sigmanew = fintegrate_nophi(phiold, sigmaold, S, **param)\n",
    "        phiold = phinew\n",
    "        sigmaold = sigmanew\n",
    "\n",
    "        if iteration%int(1/param['dt']) == 0:\n",
    "            phiarr[int(iteration*param['dt'])]=phinew\n",
    "            sigmaarr[int(iteration*param['dt'])]=sigmanew\n",
    "            print(\"day\",iteration*param['dt'])\n",
    "            #plt.imshow(phiold,vmin=0,vmax=1)\n",
    "            #plt.imshow(sigmaold,vmin=0,vmax=3)\n",
    "            #plt.show()    \n",
    "    results = {'param':param,'phistart':phistart,'sigmastart':sigmastart,'Sstart':Sstart,'phiarr':phiarr,'sigmaarr':sigmaarr}\n",
    "    return results"
   ]
  },
  {
   "cell_type": "code",
   "execution_count": 7,
   "metadata": {},
   "outputs": [],
   "source": [
    "Avals = list(np.arange(0.3,2.0,0.1))\n",
    "chivals = [1.09]\n",
    "#deltavals = list(np.arange(2.2,3.2,0.1))"
   ]
  },
  {
   "cell_type": "code",
   "execution_count": 8,
   "metadata": {
    "scrolled": true
   },
   "outputs": [
    {
     "name": "stdout",
     "output_type": "stream",
     "text": [
      "running parameter test with parameters {'gamma': 2.74, 'chi': 1.09, 'h': 5.0, 'tau': 3.65, 'delta': 2.2000000000000002, 'lambda_': 432.0, 'dt': 0.00025, 'epsilon': 40.0, 'days': 2, 'A': 0.29999999999999999}\n",
      "day 0.0\n",
      "day 1.0\n",
      "running parameter test with parameters {'gamma': 2.74, 'chi': 1.09, 'h': 5.0, 'tau': 3.65, 'delta': 2.3000000000000003, 'lambda_': 432.0, 'dt': 0.00025, 'epsilon': 40.0, 'days': 2, 'A': 0.29999999999999999}\n",
      "day 0.0\n",
      "day 1.0\n",
      "running parameter test with parameters {'gamma': 2.74, 'chi': 1.09, 'h': 5.0, 'tau': 3.65, 'delta': 2.4000000000000004, 'lambda_': 432.0, 'dt': 0.00025, 'epsilon': 40.0, 'days': 2, 'A': 0.29999999999999999}\n",
      "day 0.0\n",
      "day 1.0\n",
      "running parameter test with parameters {'gamma': 2.74, 'chi': 1.09, 'h': 5.0, 'tau': 3.65, 'delta': 2.5000000000000004, 'lambda_': 432.0, 'dt': 0.00025, 'epsilon': 40.0, 'days': 2, 'A': 0.29999999999999999}\n",
      "day 0.0\n",
      "day 1.0\n",
      "running parameter test with parameters {'gamma': 2.74, 'chi': 1.09, 'h': 5.0, 'tau': 3.65, 'delta': 2.6000000000000005, 'lambda_': 432.0, 'dt': 0.00025, 'epsilon': 40.0, 'days': 2, 'A': 0.29999999999999999}\n",
      "day 0.0\n"
     ]
    },
    {
     "ename": "KeyboardInterrupt",
     "evalue": "",
     "output_type": "error",
     "traceback": [
      "\u001b[0;31m---------------------------------------------------------------------------\u001b[0m",
      "\u001b[0;31mKeyboardInterrupt\u001b[0m                         Traceback (most recent call last)",
      "\u001b[0;32m<ipython-input-8-a353c958e64c>\u001b[0m in \u001b[0;36m<module>\u001b[0;34m()\u001b[0m\n\u001b[1;32m     10\u001b[0m         \u001b[0mparam\u001b[0m\u001b[0;34m[\u001b[0m\u001b[0;34m'A'\u001b[0m\u001b[0;34m]\u001b[0m \u001b[0;34m=\u001b[0m \u001b[0mA\u001b[0m\u001b[0;34m\u001b[0m\u001b[0m\n\u001b[1;32m     11\u001b[0m         \u001b[0mparam\u001b[0m\u001b[0;34m[\u001b[0m\u001b[0;34m'delta'\u001b[0m\u001b[0;34m]\u001b[0m \u001b[0;34m=\u001b[0m \u001b[0mdelta\u001b[0m\u001b[0;34m\u001b[0m\u001b[0m\n\u001b[0;32m---> 12\u001b[0;31m         \u001b[0mres\u001b[0m \u001b[0;34m=\u001b[0m \u001b[0mrun_partest\u001b[0m\u001b[0;34m(\u001b[0m\u001b[0mphistart\u001b[0m\u001b[0;34m,\u001b[0m \u001b[0msigmastart\u001b[0m\u001b[0;34m,\u001b[0m \u001b[0mSstart\u001b[0m\u001b[0;34m,\u001b[0m \u001b[0mparam\u001b[0m\u001b[0;34m)\u001b[0m\u001b[0;34m\u001b[0m\u001b[0m\n\u001b[0m\u001b[1;32m     13\u001b[0m \u001b[0;34m\u001b[0m\u001b[0m\n\u001b[1;32m     14\u001b[0m         \u001b[0mfilename\u001b[0m \u001b[0;34m=\u001b[0m \u001b[0;34m'parvariation/A_'\u001b[0m\u001b[0;34m+\u001b[0m\u001b[0mstr\u001b[0m\u001b[0;34m(\u001b[0m\u001b[0mA\u001b[0m\u001b[0;34m)\u001b[0m\u001b[0;34m+\u001b[0m\u001b[0;34m'_delta_'\u001b[0m\u001b[0;34m+\u001b[0m\u001b[0mstr\u001b[0m\u001b[0;34m(\u001b[0m\u001b[0mdelta\u001b[0m\u001b[0;34m)\u001b[0m\u001b[0;34m+\u001b[0m\u001b[0;34m'.pickle'\u001b[0m\u001b[0;34m\u001b[0m\u001b[0m\n",
      "\u001b[0;32m<ipython-input-6-51bfc2d55caf>\u001b[0m in \u001b[0;36mrun_partest\u001b[0;34m(phistart, sigmastart, Sstart, param)\u001b[0m\n\u001b[1;32m     10\u001b[0m \u001b[0;34m\u001b[0m\u001b[0m\n\u001b[1;32m     11\u001b[0m     \u001b[0;32mfor\u001b[0m \u001b[0miteration\u001b[0m \u001b[0;32min\u001b[0m \u001b[0mnp\u001b[0m\u001b[0;34m.\u001b[0m\u001b[0marange\u001b[0m\u001b[0;34m(\u001b[0m\u001b[0mtstep\u001b[0m\u001b[0;34m)\u001b[0m\u001b[0;34m:\u001b[0m\u001b[0;34m\u001b[0m\u001b[0m\n\u001b[0;32m---> 12\u001b[0;31m         \u001b[0mphinew\u001b[0m\u001b[0;34m,\u001b[0m \u001b[0msigmanew\u001b[0m \u001b[0;34m=\u001b[0m \u001b[0mfintegrate_nophi\u001b[0m\u001b[0;34m(\u001b[0m\u001b[0mphiold\u001b[0m\u001b[0;34m,\u001b[0m \u001b[0msigmaold\u001b[0m\u001b[0;34m,\u001b[0m \u001b[0mS\u001b[0m\u001b[0;34m,\u001b[0m \u001b[0;34m**\u001b[0m\u001b[0mparam\u001b[0m\u001b[0;34m)\u001b[0m\u001b[0;34m\u001b[0m\u001b[0m\n\u001b[0m\u001b[1;32m     13\u001b[0m         \u001b[0mphiold\u001b[0m \u001b[0;34m=\u001b[0m \u001b[0mphinew\u001b[0m\u001b[0;34m\u001b[0m\u001b[0m\n\u001b[1;32m     14\u001b[0m         \u001b[0msigmaold\u001b[0m \u001b[0;34m=\u001b[0m \u001b[0msigmanew\u001b[0m\u001b[0;34m\u001b[0m\u001b[0m\n",
      "\u001b[0;32m<ipython-input-5-7f4d3e998f6d>\u001b[0m in \u001b[0;36mfintegrate_nophi\u001b[0;34m(phi, sigma, S, dt, h, **kwargs)\u001b[0m\n\u001b[1;32m     24\u001b[0m     phinew = phi + dt * (kwargs['lambda_'] * cv2.filter2D(phi,-1,stencil_5,borderType=cv2.BORDER_REPLICATE) +\n\u001b[1;32m     25\u001b[0m                       \u001b[0;34m(\u001b[0m\u001b[0;36m64.0\u001b[0m\u001b[0;34m/\u001b[0m\u001b[0mkwargs\u001b[0m\u001b[0;34m[\u001b[0m\u001b[0;34m'tau'\u001b[0m\u001b[0;34m]\u001b[0m\u001b[0;34m)\u001b[0m \u001b[0;34m*\u001b[0m \u001b[0mphi\u001b[0m \u001b[0;34m*\u001b[0m \u001b[0;34m(\u001b[0m\u001b[0;36m1.0\u001b[0m \u001b[0;34m-\u001b[0m \u001b[0mphi\u001b[0m\u001b[0;34m)\u001b[0m \u001b[0;34m*\u001b[0m \u001b[0;34m(\u001b[0m\u001b[0mphi\u001b[0m \u001b[0;34m-\u001b[0m \u001b[0;36m0.5\u001b[0m\u001b[0;34m)\u001b[0m \u001b[0;34m+\u001b[0m\u001b[0;34m\u001b[0m\u001b[0m\n\u001b[0;32m---> 26\u001b[0;31m                       kwargs['chi'] * sigma - kwargs['A'] * phi)\n\u001b[0m\u001b[1;32m     27\u001b[0m \u001b[0;34m\u001b[0m\u001b[0m\n\u001b[1;32m     28\u001b[0m     sigmanew = sigma + dt * (kwargs['epsilon']*kwargs['lambda_'] * cv2.filter2D(sigma,-1,stencil_5,borderType=cv2.BORDER_REPLICATE) +\n",
      "\u001b[0;31mKeyboardInterrupt\u001b[0m: "
     ]
    }
   ],
   "source": [
    "size = 200\n",
    "phistart = init_tumor_ellipse(size,1,1.3,50)\n",
    "sigmastart = np.ones((size,size),dtype=float)\n",
    "Sstart = init_s2(size)\n",
    "param = {'dt':0.00025, 'h':5., 'lambda_':432., 'epsilon':40., \n",
    "         'A':1.2, 'gamma':2.74, 'tau':3.65, 'chi':1.09, 'delta':2.75, 'days':2}\n",
    "\n",
    "for A in Avals:\n",
    "    for chi in chivals:\n",
    "        param['A'] = A\n",
    "        param['chi'] = chi\n",
    "        res = run_partest(phistart, sigmastart, Sstart, param)\n",
    "        \n",
    "        filename = 'parvariation/A_'+str(A)+'_chi_'+str(chi)+'.pickle'\n",
    "        with open(filename, 'wb') as handle:\n",
    "            pickle.dump(res, handle, protocol=pickle.HIGHEST_PROTOCOL)"
   ]
  },
  {
   "cell_type": "code",
   "execution_count": null,
   "metadata": {},
   "outputs": [],
   "source": []
  }
 ],
 "metadata": {
  "kernelspec": {
   "display_name": "Python 3",
   "language": "python",
   "name": "python3"
  },
  "language_info": {
   "codemirror_mode": {
    "name": "ipython",
    "version": 3
   },
   "file_extension": ".py",
   "mimetype": "text/x-python",
   "name": "python",
   "nbconvert_exporter": "python",
   "pygments_lexer": "ipython3",
   "version": "3.5.6"
  }
 },
 "nbformat": 4,
 "nbformat_minor": 2
}
