{
 "cells": [
  {
   "cell_type": "markdown",
   "metadata": {},
   "source": [
    "## comparison of calculation times for:\n",
    "* Laplace calculated by for loop\n",
    "* Laplace calculated with convolution by:\n",
    "    * 3x3 stencil\n",
    "    * 5x5 stencil"
   ]
  },
  {
   "cell_type": "code",
   "execution_count": 89,
   "metadata": {},
   "outputs": [],
   "source": [
    "import numpy as np\n",
    "import matplotlib.pyplot as plt\n",
    "from scipy.ndimage import convolve"
   ]
  },
  {
   "cell_type": "code",
   "execution_count": 90,
   "metadata": {},
   "outputs": [
    {
     "name": "stdout",
     "output_type": "stream",
     "text": [
      "The autoreload extension is already loaded. To reload it, use:\n",
      "  %reload_ext autoreload\n"
     ]
    }
   ],
   "source": [
    "# use autoreload as loopimp might be modified\n",
    "%load_ext autoreload\n",
    "%autoreload 1\n",
    "%aimport loopimp"
   ]
  },
  {
   "cell_type": "code",
   "execution_count": 91,
   "metadata": {},
   "outputs": [],
   "source": [
    "def init_tumor2(size, radius):\n",
    "    \"\"\"\n",
    "     initializes the field phi with a circle\n",
    "     :param size: size of matrix\n",
    "     :param radius: tumor initial radius (created in center)\n",
    "     :return param phi: order parameter matrix\n",
    "    \"\"\"\n",
    "    cx,cy = int(size/2),int(size/2)\n",
    "    x, y = np.indices((size, size))\n",
    "    phi = (np.abs(np.hypot(x-cx, y-cy)) < radius).astype(int)\n",
    "    return phi"
   ]
  },
  {
   "cell_type": "code",
   "execution_count": 92,
   "metadata": {},
   "outputs": [],
   "source": [
    "def init_chemical_field(sigma, S, radius, position):\n",
    "    \"\"\"\n",
    "      initialize the chemical field sigma and the nutrient sources\n",
    "    :param sigma: nutrient chemical field\n",
    "    :param S: source of the nutrient\n",
    "    :param radius: the radius of the region where the sources will be placed\n",
    "    :param position: the center of the region\n",
    "    :return:\n",
    "    \"\"\"\n",
    "    for i in range(0, sigma.size):\n",
    "        s = np.asarray(np.unravel_index(i, sigma.shape))\n",
    "        #distance = np.sqrt(np.sum(np.power(s - position, 2)))\n",
    "        #if distance >= radius* np.sin(np.random.rand()) + 10:\n",
    "        S.itemset(i, 2.75 )\n",
    "        sigma.itemset(i, 2.75 )\n",
    "    return sigma, S"
   ]
  },
  {
   "cell_type": "code",
   "execution_count": 93,
   "metadata": {},
   "outputs": [],
   "source": [
    "def integrate_5(phi, sigma, S, dt, h, **kwargs):\n",
    "    \"\"\"\n",
    "      integrate the order parameter phi and the chemical field sigma one tstep\n",
    "      with 5x5 stencil (five point stencil - https://en.wikipedia.org/wiki/Five-point_stencil)\n",
    "    :param phi: order parameter\n",
    "    :param sigma: nutrient\n",
    "    :param S: source of nutrient\n",
    "    :param tstep: total number of timesteps\n",
    "    :param dt: time increment\n",
    "    :param kwargs: dictionary of parameters lambda, tau, chi, A, epsilon, delta, gamma\n",
    "    :return:\n",
    "    \"\"\"\n",
    "    stencil_5 = (1.0 / (12.0 * h * h)) * np.array(\n",
    "        [[0, 0, -1, 0, 0],\n",
    "         [0, 0, 16, 0, 0],\n",
    "         [-1, 16, -60, 16, -1],\n",
    "         [0, 0, 16, 0, 0],\n",
    "         [0, 0, -1, 0, 0]])\n",
    "\n",
    "    phiold = np.copy(phi)\n",
    "    phinew = phi + dt * (kwargs['lambda_'] * convolve(phi, stencil_5, mode='nearest') +\n",
    "                      (1.0/kwargs['tau']) * phi * (1.0 - phi) * (phi - 0.5) +\n",
    "                      kwargs['chi'] * sigma * phi - kwargs['A'] * phi)\n",
    "    # take care, tau was previously not inversed here!\n",
    "    sigmanew = sigma + dt * (kwargs['epsilon'] * convolve(sigma, stencil_5, mode='nearest') +\n",
    "                              S - kwargs['delta'] * phiold - kwargs['gamma'] * sigma)    \n",
    "    \n",
    "    return phinew, sigmanew"
   ]
  },
  {
   "cell_type": "code",
   "execution_count": 94,
   "metadata": {},
   "outputs": [],
   "source": [
    "def integrate_3(phi, sigma, S, dt, h, **kwargs):\n",
    "    \"\"\"\n",
    "      integrate the order parameter phi and the chemical field sigma one tstep\n",
    "      with 3x3 stencil\n",
    "    :param phi: order parameter\n",
    "    :param sigma: nutrient\n",
    "    :param S: source of nutrient\n",
    "    :param tstep: total number of timesteps\n",
    "    :param dt: time increment\n",
    "    :param kwargs: dictionary of parameters lambda, tau, chi, A, epsilon, delta, gamma\n",
    "    :return:\n",
    "    \"\"\"\n",
    "    stencil_3 = (1.0 / (1.0 * h * h)) * np.array(\n",
    "        [[0,1,0],\n",
    "         [1,-4,1],\n",
    "         [0,1,0]])\n",
    "\n",
    "    phiold = np.copy(phi)\n",
    "    phinew = phi + dt * (kwargs['lambda_'] * convolve(phi, stencil_3, mode='nearest') +\n",
    "                      (1.0/kwargs['tau']) * phi * (1.0 - phi) * (phi - 0.5) +\n",
    "                      kwargs['chi'] * sigma * phi - kwargs['A'] * phi)\n",
    "    # take care, tau was previously not inversed here!\n",
    "    sigmanew = sigma + dt * (kwargs['epsilon'] * convolve(sigma, stencil_3, mode='nearest') +\n",
    "                              S - kwargs['delta'] * phiold - kwargs['gamma'] * sigma)    \n",
    "    \n",
    "    return phinew, sigmanew"
   ]
  },
  {
   "cell_type": "code",
   "execution_count": 95,
   "metadata": {},
   "outputs": [],
   "source": [
    "def integrate_loop(phi, sigma, S, dt, h, **kwargs):\n",
    "    \"\"\"\n",
    "      integrate the order parameter phi and the chemical field sigma one tstep\n",
    "      with laplace described in for loop (module loopimp)\n",
    "    :param phi: order parameter\n",
    "    :param sigma: nutrient\n",
    "    :param S: source of nutrient\n",
    "    :param tstep: total number of timesteps\n",
    "    :param dt: time increment\n",
    "    :param kwargs: dictionary of parameters lambda, tau, chi, A, epsilon, delta, gamma\n",
    "    :return:\n",
    "    \"\"\"\n",
    "    phiold = np.copy(phi)\n",
    "    phinew=loopimp.euler(phiold,dt,\n",
    "                         loopimp.der_order(phiold,kwargs['lambda_'],kwargs['tau'],kwargs['chi'],\n",
    "                                           sigma,kwargs['A'],h))\n",
    "    sigmanew=loopimp.euler(sigma,dt,loopimp.der_nut(sigma,phiold,S,kwargs['epsilon'],kwargs['delta'],kwargs['gamma'],h))\n",
    "    return phinew, sigmanew"
   ]
  },
  {
   "cell_type": "code",
   "execution_count": 96,
   "metadata": {},
   "outputs": [],
   "source": [
    "# init params + fields\n",
    "size = 100\n",
    "L = np.array([size, size])  # system length\n",
    "phi = init_tumor2(100, 20)  # initializing the tumor field\n",
    "sigma = np.zeros(L)  # allocating the array for the chemical field\n",
    "S = np.zeros(L)\n",
    "sigma, S = init_chemical_field(sigma, S, radius=20, position=L / 2)  # initializing the nutrient field and sources\n",
    "param = {'dt':0.001, 'h':1, 'lambda_':1., 'epsilon':10., \n",
    "         'A':4., 'gamma':0.1, 'tau':5., 'chi':0.2, 'delta':0.1}\n",
    "tstep = 1000#40000 "
   ]
  },
  {
   "cell_type": "code",
   "execution_count": 97,
   "metadata": {},
   "outputs": [
    {
     "name": "stdout",
     "output_type": "stream",
     "text": [
      "0\n",
      "100\n",
      "200\n",
      "300\n",
      "400\n",
      "500\n",
      "600\n",
      "700\n",
      "800\n",
      "900\n"
     ]
    }
   ],
   "source": [
    "# calculate tstep iterations with all methods and plot for comparison\n",
    "# so far only 1000 iterations used\n",
    "phiold_3 = np.copy(phi)\n",
    "phiold_5 = np.copy(phi)\n",
    "phiold_loop = np.copy(phi)\n",
    "sigmaold_3 = np.copy(sigma)\n",
    "sigmaold_5 = np.copy(sigma)\n",
    "sigmaold_loop = np.copy(sigma)\n",
    "\n",
    "for iteration in np.arange(tstep):\n",
    "    phinew_5, sigmanew_5 = integrate_5(phiold_5, sigmaold_5, S, **param) # so far S does not change\n",
    "    phiold_5 = phinew_5\n",
    "    sigmaold_5 = sigmanew_5\n",
    "    phinew_3, sigmanew_3 = integrate_3(phiold_3, sigmaold_3, S, **param)\n",
    "    phiold_3 = phinew_3\n",
    "    sigmaold_3 = sigmanew_3\n",
    "    phinew_loop, sigmanew_loop = integrate_loop(phiold_loop, sigmaold_loop, S, **param)\n",
    "    phiold_loop = phinew_loop\n",
    "    sigmaold_loop = sigmanew_loop\n",
    "    if iteration%100 == 0:\n",
    "        print(iteration)"
   ]
  },
  {
   "cell_type": "code",
   "execution_count": 169,
   "metadata": {},
   "outputs": [
    {
     "name": "stdout",
     "output_type": "stream",
     "text": [
      "min diff:  -0.0003922293458848529 max diff:  0.0004002764355576383\n"
     ]
    },
    {
     "data": {
      "image/png": "[encoded data removed]",
      "text/plain": [
       "<Figure size 720x720 with 6 Axes>"
      ]
     },
     "metadata": {},
     "output_type": "display_data"
    }
   ],
   "source": [
    "plotpar = {'vmin':0,'vmax':np.max([phinew_5,phinew_3,phinew_loop])} # apply same scale for all\n",
    "diffs = [phinew_5-phinew_3,phinew_5-phinew_loop,phinew_3-phinew_loop]\n",
    "print(\"min diff: \", np.min(diffs),\"max diff: \",np.max(diffs))\n",
    "plotpar_comp = {'vmin':np.min(diffs),'vmax':np.max(diffs)}\n",
    "\n",
    "fig, ax = plt.subplots(2,3,figsize=(10,10))\n",
    "fax = ax.ravel()\n",
    "fax[0].imshow(phinew_5,**plotpar)\n",
    "fax[0].set_title(\"5x5\")\n",
    "fax[1].imshow(phinew_3,**plotpar)\n",
    "fax[1].set_title(\"3x3\")\n",
    "fax[2].imshow(phinew_loop,**plotpar)\n",
    "fax[2].set_title(\"loop\")\n",
    "fax[3].imshow(phinew_5-phinew_3,**plotpar_comp)#,vmin=0,vmax=1) #normalize? which range?\n",
    "fax[3].set_title(\"$\\Delta$ = (5x5)-(3x3)\")\n",
    "fax[4].imshow(phinew_5-phinew_loop,**plotpar_comp)\n",
    "fax[4].set_title(\"$\\Delta$ = (5x5)-loop\")\n",
    "fax[5].imshow(phinew_3-phinew_loop,**plotpar_comp)\n",
    "fax[5].set_title(\"$\\Delta$ = (3x3)-loop\")\n",
    "\n",
    "fig.savefig('result_comp.png',tight_layout=True, dpi=200)"
   ]
  },
  {
   "cell_type": "code",
   "execution_count": 167,
   "metadata": {},
   "outputs": [
    {
     "name": "stdout",
     "output_type": "stream",
     "text": [
      "1.03 ms ± 76.2 µs per loop (mean ± std. dev. of 7 runs, 1000 loops each)\n",
      "860 µs ± 19.7 µs per loop (mean ± std. dev. of 7 runs, 1000 loops each)\n",
      "258 ms ± 20.5 ms per loop (mean ± std. dev. of 7 runs, 1 loop each)\n"
     ]
    }
   ],
   "source": [
    "# compare runtimes\n",
    "phiold_3 = np.copy(phi)\n",
    "phiold_5 = np.copy(phi)\n",
    "phiold_loop = np.copy(phi)\n",
    "sigmaold_3 = np.copy(sigma)\n",
    "sigmaold_5 = np.copy(sigma)\n",
    "sigmaold_loop = np.copy(sigma)\n",
    "\n",
    "avgs = {}\n",
    "t_5 = %timeit -o integrate_5(phiold_5, sigmaold_5, S, **param)\n",
    "avgs[\"5x5 conv\"] = t_5.average * 10**3\n",
    "t_3 = %timeit -o integrate_3(phiold_3, sigmaold_3, S, **param)\n",
    "avgs[\"3x3 conv\"] = t_3.average * 10**3\n",
    "t_for = %timeit -o integrate_loop(phiold_loop, sigmaold_loop, S, **param)\n",
    "avgs[\"for loop\"] = t_for.average * 10**3"
   ]
  },
  {
   "cell_type": "code",
   "execution_count": 168,
   "metadata": {},
   "outputs": [
    {
     "data": {
      "image/png": "[encoded data removed]",
      "text/plain": [
       "<Figure size 500x500 with 2 Axes>"
      ]
     },
     "metadata": {},
     "output_type": "display_data"
    }
   ],
   "source": [
    "# plot for comparison\n",
    "fig,(ax,ax2) = plt.subplots(2,1, sharex=True, figsize=(5,5),dpi=100)\n",
    "ax.bar(range(len(avgs)), list(avgs.values()), align='center', tick_label=list(avgs.keys()))\n",
    "ax.set_ylim(10,270)\n",
    "ax2.bar(range(len(avgs)), list(avgs.values()), align='center', tick_label=list(avgs.keys()))\n",
    "#ax2.set_ylabel(\"t [ms]\") # would set it only on ax2\n",
    "fig.text(0.02, 0.5, 't [ms]', va='center', rotation='vertical', size=12)\n",
    "ax2.set_ylim(0,1.2)\n",
    "\n",
    "ax2.axhline(1.2, linestyle = '--', color='black')\n",
    "\n",
    "# hide the spines between ax and ax2\n",
    "ax.spines['bottom'].set_visible(False)\n",
    "ax2.spines['top'].set_visible(False)\n",
    "ax.xaxis.tick_top()\n",
    "ax.tick_params(top=False)  # don't put tick labels at the top\n",
    "ax2.xaxis.tick_bottom()\n",
    "\n",
    "d = .015  # how big to make the diagonal lines in axes coordinates\n",
    "s = .02 # space between broken ax indicator\n",
    "# arguments to pass to plot, just so we don't keep repeating them\n",
    "kwargs = dict(transform=ax.transAxes, color='k', clip_on=False)\n",
    "ax.plot((-d, +d), (-d, +d), **kwargs)        # top-left diagonal\n",
    "ax.plot((1 - d, 1 + d), (-d, +d), **kwargs)  # top-right diagonal\n",
    "\n",
    "kwargs.update(transform=ax2.transAxes)  # switch to the bottom axes\n",
    "ax2.plot((-d, +d), (1 +s - d, 1+s + d), **kwargs)  # bottom-left diagonal\n",
    "ax2.plot((1 - d, 1 + d), (1+s- d, 1+s+ d), **kwargs)  # bottom-right diagonal\n",
    "\n",
    "fig.subplots_adjust(hspace=0)\n",
    "fig.savefig('speed_comp.png',tight_layout=True, dpi=200)"
   ]
  },
  {
   "cell_type": "code",
   "execution_count": null,
   "metadata": {},
   "outputs": [],
   "source": []
  }
 ],
 "metadata": {
  "kernelspec": {
   "display_name": "Python [conda env:OliEnv]",
   "language": "python",
   "name": "conda-env-OliEnv-py"
  },
  "language_info": {
   "codemirror_mode": {
    "name": "ipython",
    "version": 3
   },
   "file_extension": ".py",
   "mimetype": "text/x-python",
   "name": "python",
   "nbconvert_exporter": "python",
   "pygments_lexer": "ipython3",
   "version": "3.5.5"
  }
 },
 "nbformat": 4,
 "nbformat_minor": 2
}
